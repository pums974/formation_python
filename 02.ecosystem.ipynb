{
 "cells": [
  {
   "cell_type": "markdown",
   "metadata": {},
   "source": [
    "<!--<div class=\"alert alert-block alert-info\">\n",
    "<span style=\"font-size:xx-large;\"><center>Ecosystem</center></span>\n",
    "</div>-->\n",
    "\n",
    "# Ecosystem"
   ]
  },
  {
   "cell_type": "markdown",
   "metadata": {},
   "source": [
    "## Modules\n",
    "- Different way for import\n",
    "  - Full package in it's own namespace:\n",
    "```python\n",
    "    import package\n",
    "    package.function()\n",
    "    # or\n",
    "    import package as pkg\n",
    "    pgk.function()\n",
    "```\n",
    "  - Only function in package:\n",
    "```python\n",
    "    from package import function\n",
    "    function()\n",
    "    # or\n",
    "    from package import function as func\n",
    "    func()\n",
    "```\n",
    "  - Full package in the current namespace: **TO BE AVOIDED**\n",
    "```python\n",
    "    from package import *\n",
    "    function()\n",
    "```"
   ]
  },
  {
   "cell_type": "markdown",
   "metadata": {},
   "source": [
    "## Standard library\n",
    "- builtins     : automatically imported, contains basis (```int```, ```print()```, ...)\n",
    "- sys et os    : two common modules for read and manage code's environment\n",
    "- shutil       : file managment (copy, move, ...)\n",
    "- math / cmath : classic mathematical functions (real / complex)\n",
    "- copy         : particulary deepcopy\n",
    "- pathlib      : dedicated to pathfile managment  \n",
    "    (```directory / file``` better than ```directory + \"/\" + fichier```)\n",
    "- time\n",
    "- ...\n"
   ]
  },
  {
   "cell_type": "markdown",
   "metadata": {},
   "source": [
    "## Your modules\n",
    "\n",
    "- ```import file``` in order to use content of file.py\n",
    "- if subfolders:\n",
    "    - ```__init__.py``` mandatory in dir (may be empty)\n",
    "    - ```import dir.file```in order to use content of dir/file.py\n",
    "- import involve execution!  \n",
    "```python\n",
    "if __name__ == '__main__':\n",
    "    # do stuff\n",
    "    ...\n",
    "```\n",
    "- can be imported:\n",
    "  - each module in sys.path (feeded par PYTHONPATH)\n",
    "  - each submodule (with spam.egg; import spam then egg in the directory spam)\n",
    "\n",
    "> It is useless to import a module multiple times (but it does not harm either)"
   ]
  },
  {
   "cell_type": "code",
   "execution_count": null,
   "metadata": {},
   "outputs": [],
   "source": [
    "from sys import path\n",
    "print(path)"
   ]
  },
  {
   "cell_type": "markdown",
   "metadata": {},
   "source": [
    "## How to install external packages\n",
    "\n",
    "- Windows\n",
    "  - conda install package\n",
    "  - pip install package\n",
    "- Linux et Mac\n",
    "  - pip install --user package\n"
   ]
  },
  {
   "cell_type": "markdown",
   "metadata": {},
   "source": [
    "## Numpy \n",
    "\n",
    "[Reference](https://docs.scipy.org/doc/numpy/reference/)  \n",
    "[Comparison from matlab](http://mathesaurus.sourceforge.net/matlab-python-xref.pdf)\n",
    "\n",
    "- ```dtype``` : numerical precision (double by default)\n",
    "- ```ndarray``` : an array of a unique dtype unique **much faster** than the python lists\n",
    "- ```shape```\n",
    "- **mutable**\n",
    "  "
   ]
  },
  {
   "cell_type": "markdown",
   "metadata": {},
   "source": [
    "- same indexing and slicing as with lists, plus:\n",
    "  - a list of integers per dimensions\n",
    "  - an array of index\n",
    "  - an array of boolean (mask)"
   ]
  },
  {
   "cell_type": "markdown",
   "metadata": {},
   "source": [
    "- creation :\n",
    "  - ```empty``` : fast allocation but without initialization\n",
    "  - ```zeros```, ```zeros_like```, ```ones```, ```ones_like``` : allocataion and initialization with 0 or 1\n",
    "  - ```arange(start, end, step)```\n",
    "  - ```linspace(start, end, nb of points)```\n",
    "  - ```meshgrid``` : mesh"
   ]
  },
  {
   "cell_type": "markdown",
   "metadata": {},
   "source": [
    "- matrix product : ```@```\n",
    "- **A lot** of packages use this data structure"
   ]
  },
  {
   "cell_type": "markdown",
   "metadata": {},
   "source": [
    "- Some usefull functions\n",
    "  - ```linalg.eigvals``` : eigen values\n",
    "  - ```linalg.det``` : determinent\n",
    "  - ```linalg.solve``` : solve Ax = b\n",
    "  - ```linalg.inv``` : inverse a matrix\n",
    "  - ```sort``` : sort\n",
    "  - ```where``` : index where a mask is True\n",
    "  - ```median```, ```average```, ```std```,```var``` : classic statistical tools\n",
    "  - ```cov``` : covariant matrix\n",
    "  - ```histogram``` : histogram"
   ]
  },
  {
   "cell_type": "markdown",
   "metadata": {},
   "source": [
    "## scipy\n",
    "\n",
    "[Reference](https://docs.scipy.org/doc/scipy/reference/)\n",
    "\n",
    "- Many usefull constants\n",
    "- **A lot** of usefull functions\n",
    "  - ```fft```, ```dct```, ```dst``` : fourrier transform\n",
    "  - ```quad```, ```simps```, ```odr``` : integration\n",
    "  - ```solve_ivp```, ```solve_bvp``` : ODE solver\n",
    "  - ```griddata```, ```make_interp_spline``` : interpolation\n",
    "  - ```solve```, ```inv```, ```det```, ```eigvals``` : linalg variant\n",
    "  - ```lu```, ```svd``` : more linalg\n",
    "  - ```convolve```, ```correlate```, ```gaussian_filter```,```spline_filter``` : filters\n",
    "  - ```binary_closing```, ```binary_dilatation```, ```binary_erosion``` : morphology\n",
    "  - ```minimize```, ```leastsq```, ```root```, ```fsolve``` : optimization and zeros finding\n",
    "  - ```find_peaks_cwt```, ```spectrogram``` : signal processing\n",
    "  - ```lu```, ```csr``` : sparse matrices\n",
    "  - ```bicg```, ```gmres```, ```splu``` : sparse linalg\n",
    "  - ```shortest_path``` : graph computation\n",
    "  - ```KDTree```, ```Delaunay```, spatial computation\n",
    "  - ```gauss```, ```laplace```, ```uniform```, ```binom``` : random distributions\n",
    "  - ```describe```, ```bayes_mvs``` : more statistics\n",
    "  - ```airy```, ```jv```, ```erf```, ```fresnel``` : classical functions\n",
    "  \n",
    "  "
   ]
  },
  {
   "cell_type": "markdown",
   "metadata": {},
   "source": [
    "## Matpotlib\n",
    "\n",
    "[Gallery](https://matplotlib.org/gallery/index.html)\n",
    "- Almost anything you need to vizualize something\n",
    "  - 1d / 2d / 3d\n",
    "  - fixed ou animated\n",
    "  - static or interactive (but static is easier)\n",
    "- Very close to the matlab syntax (too close ?)\n",
    "- A lot of functionnalities (too much ?)\n",
    "- Might be slow (does not always replace paraview / visit)\n"
   ]
  },
  {
   "cell_type": "markdown",
   "metadata": {},
   "source": [
    "<!--<div class=\"alert alert-block alert-warning\"> \n",
    "<span style=\"font-size:xx-large;\"><center>Some exemples</center></span>\n",
    "</div> -->\n",
    "\n",
    "# Some exemples"
   ]
  },
  {
   "cell_type": "code",
   "execution_count": null,
   "metadata": {
    "scrolled": false
   },
   "outputs": [],
   "source": [
    "import numpy as np\n",
    "\n",
    "def f(t):\n",
    "    \"\"\"A simple function\"\"\"\n",
    "    return np.exp(-t) * np.cos(2 * np.pi * t)\n",
    "\n",
    "# Some time steps\n",
    "t = np.arange(0.0, 5.0, 0.1)\n",
    "\n",
    "# apply f() on all the values in t, and name the result y\n",
    "y = f(t)\n",
    "\n",
    "print(\"Numpy arrays are capable of some basic computation:\")\n",
    "print((\"{:6} = {:5.2f}\\n\" * 3).format(\"y min\", y.min(),\n",
    "                                      \"y mean\", y.mean(),\n",
    "                                      \"y max\", y.max()))"
   ]
  },
  {
   "cell_type": "code",
   "execution_count": null,
   "metadata": {},
   "outputs": [],
   "source": [
    "print(\"Or we can use numpy's functions on those arrays (see reference):\")\n",
    "print((\"{:6} = {:5.2f}\\n\" * 3).format(\"y min\", np.min(y),\n",
    "                                      \"y mean\", np.mean(y),\n",
    "                                      \"y max\", np.max(y)))\n"
   ]
  },
  {
   "cell_type": "code",
   "execution_count": null,
   "metadata": {},
   "outputs": [],
   "source": [
    "# Only for jupyter\n",
    "%matplotlib notebook\n",
    "\n",
    "# import can be done at any time,\n",
    "# but best practice tells us to put all of them at the top of the file\n",
    "import matplotlib.pyplot as plt\n",
    "\n",
    "# The simplest plot\n",
    "plt.figure()\n",
    "plt.plot(t, f(t))\n",
    "plt.show()"
   ]
  },
  {
   "cell_type": "code",
   "execution_count": null,
   "metadata": {},
   "outputs": [],
   "source": [
    "# A better plot\n",
    "fig= plt.figure()\n",
    "ax = plt.subplot(111)\n",
    "plt.plot(t, f(t), \"-o\", label=f.__doc__) # we can access the docstring of f\n",
    "ax.set_xlabel(\"Time (s)\")\n",
    "ax.set_ylabel(\"Function\")\n",
    "plt.suptitle(\"Function over Time\", fontsize=16)\n",
    "plt.legend()\n",
    "ax.grid('on')\n",
    "plt.show()"
   ]
  },
  {
   "cell_type": "markdown",
   "metadata": {},
   "source": [
    "## Some interactivity is possible (not easy)"
   ]
  },
  {
   "cell_type": "code",
   "execution_count": null,
   "metadata": {},
   "outputs": [],
   "source": [
    "%matplotlib notebook\n",
    "import numpy as np\n",
    "import matplotlib.pyplot as plt\n",
    "\n",
    "def f(t, alpha):\n",
    "    \"\"\"\n",
    "    A simple function with a parameter\n",
    "    \"\"\"\n",
    "    return np.exp(-t) * np.cos(alpha * 2 * np.pi * t)\n",
    "\n",
    "# Some time steps\n",
    "nt = 500\n",
    "t = np.linspace(0.0, 5.0, nt)\n",
    "\n",
    "# Some parameters\n",
    "na = 5\n",
    "alpha = np.logspace(0., 1., na)\n",
    "\n",
    "# Produce data\n",
    "data = np.empty((na,2,nt))\n",
    "for i, a in enumerate(alpha):\n",
    "    data[i] = t, f(t, a)\n",
    "\n",
    "# Produce markers\n",
    "markers = data[:,:,::10]"
   ]
  },
  {
   "cell_type": "code",
   "execution_count": null,
   "metadata": {},
   "outputs": [],
   "source": [
    "from Picker import Picker # An home-made module\n",
    "\n",
    "def dataplot(ax, ImgNum, args):\n",
    "    \"\"\"\n",
    "    A function that plot the data and the pickable markers\n",
    "    and return the plot of the pickable markers\n",
    "    The signature of this function is non-negotiable (forced by Picker)\n",
    "    \"\"\"\n",
    "    data, markers = args\n",
    "    ax.plot(*data[ImgNum], '-k')\n",
    "    ax.grid('on')\n",
    "    plot, = ax.plot(*markers[ImgNum], 'ro', picker=50.)\n",
    "    return plot\n",
    "\n",
    "    \n",
    "#For jupyter, keep this object in memory\n",
    "picker = Picker()\n",
    "\n",
    "# let the user pick one point per image (the first dim of data)\n",
    "result = picker.pick((data, markers), ndata=na, plotfx=dataplot)"
   ]
  },
  {
   "cell_type": "code",
   "execution_count": null,
   "metadata": {},
   "outputs": [],
   "source": [
    "print(result)"
   ]
  },
  {
   "cell_type": "markdown",
   "metadata": {},
   "source": [
    "<!-- <div class=\"alert alert-block alert-warning\"> \n",
    "<span style=\"font-size:xx-large;\"><center>First exercise : statistics</center></span>\n",
    "</div> -->\n",
    "\n",
    "# First exercise : statistics"
   ]
  },
  {
   "cell_type": "code",
   "execution_count": null,
   "metadata": {
    "scrolled": false
   },
   "outputs": [],
   "source": [
    "# Load more data\n",
    "data = np.loadtxt('data/populations.txt').astype(np.int)\n",
    "print(data)"
   ]
  },
  {
   "cell_type": "code",
   "execution_count": null,
   "metadata": {
    "scrolled": false
   },
   "outputs": [],
   "source": [
    "import numpy as np\n",
    "\n",
    "# Extract each collumn into a specific vector\n",
    "\n",
    "# Copy the data array without the year collumn\n",
    "\n",
    "# Compute for each species\n",
    "# - the mean population\n",
    "# - the standard deviation\n",
    "# - The year when this species had it's maximum of population\n",
    "# - The two years when this species had it's minimum of population\n",
    "\n",
    "# Print all that in an table"
   ]
  },
  {
   "cell_type": "markdown",
   "metadata": {},
   "source": [
    "<!--REMOVE BUTTON FOR GITHUB\n",
    "<button data-toggle=\"collapse\" data-target=\"#stats1\">Solution</button>\n",
    "<div id=\"stats1\" class=\"collapse\">-->\n",
    "    \n",
    "### Solution\n",
    "\n",
    "```python\n",
    "import numpy as np\n",
    "\n",
    "# Extract each collumn into a specific vector\n",
    "years, hares, lynxes, carrots = data.T                             # unpacking\n",
    "\n",
    "# Copy the data array without the year collumn\n",
    "populations = data[:,1:]                                           # slicing\n",
    "\n",
    "# Compute for each species\n",
    "# - the mean population\n",
    "means           = populations.mean(axis=0)\n",
    "\n",
    "# - the standard deviation\n",
    "stds            = populations.std(axis=0)\n",
    "\n",
    "# - The year when this species had it's maximum of population\n",
    "max_populations = np.argmax(populations, axis=0)                   # use of axis\n",
    "max_years       = years[max_populations]                           # slicing with a vector\n",
    "\n",
    "# - The two years when this species had it's minimum of population\n",
    "lowest_2_pop    = np.argsort(populations, axis=0)[:2]\n",
    "lowest_2_year   = years[lowest_2_pop]                              # slicing with a matrix\n",
    "\n",
    "# Print all that in an table\n",
    "\n",
    "format_title = \"{:<30} {:^10} | {:^10} | {:^10}\"\n",
    "format_array = \"{:<30} {:^10.3e} | {:^10.3e} | {:^10.3e}\"\n",
    "print(format_title.format(\"\", \"Hares\", \"Lynxes\", \"Carrots\"))\n",
    "print(format_array.format(\"Mean:\", *means))                        # unpacking (rare)\n",
    "print(format_array.format(\"Std:\", *stds))\n",
    "print(format_array.format(\"Max. year:\",*max_years))\n",
    "print(format_array.format(\"lowest populations year 1:\", *lowest_2_year[0]))\n",
    "print(format_array.format(\"lowest populations year 2:\", *lowest_2_year[1]))\n",
    "```"
   ]
  },
  {
   "cell_type": "code",
   "execution_count": null,
   "metadata": {
    "scrolled": false
   },
   "outputs": [],
   "source": [
    "# All years when at least one specie was above 50000"
   ]
  },
  {
   "cell_type": "markdown",
   "metadata": {},
   "source": [
    "<!--REMOVE BUTTON FOR GITHUB\n",
    "<button data-toggle=\"collapse\" data-target=\"#stats2\">Solution</button>\n",
    "<div id=\"stats2\" class=\"collapse\">-->\n",
    "\n",
    "### Solution\n",
    "\n",
    "```python\n",
    "above_50000 = np.any(populations > 50000, axis=1)\n",
    "print(\"Any above 50000:\", years[above_50000])            # slicing with a mask\n",
    "```"
   ]
  },
  {
   "cell_type": "code",
   "execution_count": null,
   "metadata": {
    "scrolled": false
   },
   "outputs": [],
   "source": [
    "# Dominants species throught the years"
   ]
  },
  {
   "cell_type": "markdown",
   "metadata": {},
   "source": [
    "<!--REMOVE BUTTON FOR GITHUB\n",
    "<button data-toggle=\"collapse\" data-target=\"#stats3\">Solution</button>\n",
    "<div id=\"stats3\" class=\"collapse\">-->\n",
    "\n",
    "### Solution\n",
    "\n",
    "```python\n",
    "max_species = np.argmax(populations, axis=1)\n",
    "species = np.array(['Hare', 'Lynx', 'Carrot'])\n",
    "\n",
    "max_species=np.stack((years,species[max_species]), axis=1)\n",
    "print(\"Max species:\")\n",
    "print(max_species)\n",
    "```"
   ]
  },
  {
   "cell_type": "code",
   "execution_count": null,
   "metadata": {
    "scrolled": false
   },
   "outputs": [],
   "source": [
    "# Compute the correlation coeficient between the variation of hares and lynxes"
   ]
  },
  {
   "cell_type": "markdown",
   "metadata": {},
   "source": [
    "<!--REMOVE BUTTON FOR GITHUB\n",
    "<button data-toggle=\"collapse\" data-target=\"#stats4\">Solution</button>\n",
    "<div id=\"stats4\" class=\"collapse\">-->\n",
    "\n",
    "### Solution\n",
    "    \n",
    "```python\n",
    "hare_grad = np.gradient(hares, 1.0)\n",
    "\n",
    "plt.figure()\n",
    "plt.plot(years, hare_grad)\n",
    "plt.plot(years, -lynxes)\n",
    "plt.show()\n",
    "\n",
    "# Compute the correlation coeficient between the variation of hares and lynxes\n",
    "print(\"diff(Hares) vs. Lynxes correlation = \", np.corrcoef(hare_grad, -lynxes)[0, 1])\n",
    "```"
   ]
  },
  {
   "cell_type": "markdown",
   "metadata": {},
   "source": [
    "<!--<div class=\"alert alert-block alert-warning\"> \n",
    "<span style=\"font-size:xx-large;\"><center>Alternative : Panda</center></span>\n",
    "</div>-->\n",
    "\n",
    "# Alternative : Panda\n",
    "\n",
    "- Excel-like processing"
   ]
  },
  {
   "cell_type": "code",
   "execution_count": null,
   "metadata": {},
   "outputs": [],
   "source": [
    "import pandas as pd\n",
    "import numpy as np\n",
    "# Load data\n",
    "data = pd.read_csv('data/populations.txt', sep=\"\\t\", dtype=np.int, index_col=0)\n",
    "# fix the year title\n",
    "data.index.names = ['year']\n",
    "data.style"
   ]
  },
  {
   "cell_type": "code",
   "execution_count": null,
   "metadata": {},
   "outputs": [],
   "source": [
    "data.describe().style.format(\"{:.0f}\")"
   ]
  },
  {
   "cell_type": "code",
   "execution_count": null,
   "metadata": {},
   "outputs": [],
   "source": [
    "# Compute for each species\n",
    "# - the mean population\n",
    "means = data.mean()\n",
    "means.name = \"Mean\"\n",
    "\n",
    "# - the standard deviation\n",
    "stds            = data.std()\n",
    "stds.name = \"Std\"\n",
    "\n",
    "# - The year when this species had it's maximum of population\n",
    "max_populations = data.idxmax()\n",
    "max_populations.name = \"Max. year\"\n",
    "\n",
    "# - The two years when this species had it's minimum of population\n",
    "lowest_2_pop    = data.values.argsort(axis=0)[:2]\n",
    "lowest_2_year   = data.index[lowest_2_pop].values\n",
    "\n",
    "lowest_2_year = pd.DataFrame(lowest_2_year,\n",
    "                             columns=data.columns,\n",
    "                             index=[\"Lowest populations year 1\", \"Lowest populations year 2\"])\n",
    "\n",
    "# Print all that in an table\n",
    "result_table = pd.concat([means, stds, max_populations, lowest_2_year.T], axis=1).T\n",
    "result_table.style"
   ]
  },
  {
   "cell_type": "code",
   "execution_count": null,
   "metadata": {},
   "outputs": [],
   "source": [
    "# All years when at least one specie was above 50000\n",
    "above_50000 = (data > 50000).any(axis=1)\n",
    "print(\"Any above 50000:\", data.index[above_50000].values)\n",
    "\n",
    "# Dominants species throught the years\n",
    "\n",
    "print(\"Max species:\")\n",
    "print(data.idxmax(axis=1))"
   ]
  },
  {
   "cell_type": "code",
   "execution_count": null,
   "metadata": {},
   "outputs": [],
   "source": [
    "data[\"hare_grad\"] = np.gradient(data[\"hare\"], data.index.to_series())\n",
    "\n",
    "plt.figure()\n",
    "plt.plot(data[\"hare_grad\"])\n",
    "plt.plot(-data[\"lynx\"])\n",
    "plt.legend()\n",
    "plt.show()\n"
   ]
  },
  {
   "cell_type": "code",
   "execution_count": null,
   "metadata": {},
   "outputs": [],
   "source": [
    "# Compute the correlation coeficient between the variation of hares and lynxes\n",
    "print(\"Correlation\")\n",
    "print(data.corr())"
   ]
  },
  {
   "cell_type": "markdown",
   "metadata": {},
   "source": [
    "<!--<div class=\"alert alert-block alert-warning\"> \n",
    "<span style=\"font-size:xx-large;\"><center>Image processing</center></span>\n",
    "</div>-->\n",
    "\n",
    "# Image processing\n",
    "\n",
    "### pillow\n",
    "For reading and writing images in a lot of format (tif, jpeg, ...)\n",
    "\n",
    "### Opencv\n",
    "For image processing but usually scikit-image is better (but opencv is more complete)\n",
    "\n",
    "### scikits\n",
    "'Plugins' for scipy\n",
    "http://scikits.appspot.com/scikits\n",
    "e.g. scikit-image\n",
    "\n",
    "## Exemple"
   ]
  },
  {
   "cell_type": "code",
   "execution_count": null,
   "metadata": {
    "scrolled": false
   },
   "outputs": [],
   "source": [
    "%matplotlib notebook \n",
    "\n",
    "from PIL import Image\n",
    "waldo = Image.open(\"data/waldo.jpg\")\n",
    "waldo = np.array(waldo)\n",
    "\n",
    "print(waldo.shape, waldo.dtype)\n",
    "\n",
    "plt.figure()\n",
    "plt.imshow(waldo)\n",
    "plt.show()"
   ]
  },
  {
   "cell_type": "code",
   "execution_count": null,
   "metadata": {
    "scrolled": false
   },
   "outputs": [],
   "source": [
    "%matplotlib notebook \n",
    "\n",
    "# Make a copy of the image\n",
    "solution = waldo.copy()\n",
    "\n",
    "# An image is a 2d Array (3d with for colored image)\n",
    "# I need indices of pixels (x and y)\n",
    "sy, sx, sc = waldo.shape\n",
    "y, x, c = np.mgrid[0:sy, 0:sx, 0:sc] \n",
    "# Approximate position of waldo\n",
    "centerx, centery = (810, 870)\n",
    "size = 50\n",
    "\n",
    "# Darken everything except a circle around the waldo\n",
    "mask = ((y - centery) ** 2 + (x - centerx) ** 2) > size ** 2\n",
    "solution[mask] //= 2 \n",
    "\n",
    "# Plot the solution\n",
    "plt.figure()\n",
    "plt.imshow(solution)\n",
    "plt.show()"
   ]
  },
  {
   "cell_type": "markdown",
   "metadata": {},
   "source": [
    "## Exercice\n",
    "\n",
    "We have an image of some coins on a dark background.  \n",
    "We want to extract those coins"
   ]
  },
  {
   "cell_type": "code",
   "execution_count": null,
   "metadata": {
    "scrolled": false
   },
   "outputs": [],
   "source": [
    "%matplotlib notebook \n",
    "from scipy import ndimage as ndi\n",
    "from skimage import data\n",
    "from skimage.color import label2rgb\n",
    "\n",
    "# get data\n",
    "coins = data.coins()\n",
    "\n",
    "# Two plot side by side\n",
    "# plot coins on the left one\n",
    "fig, axes = plt.subplots(1,2)\n",
    "axes[0].imshow(coins, cmap='gray')\n",
    "# plot the histogram on the right\n",
    "axes[1].hist(coins.flatten(), bins=np.arange(0, 256))\n",
    "plt.show()"
   ]
  },
  {
   "cell_type": "code",
   "execution_count": null,
   "metadata": {},
   "outputs": [],
   "source": [
    "# 3D plot\n",
    "\n",
    "from mpl_toolkits.mplot3d import Axes3D\n",
    "from matplotlib import cm\n",
    "\n",
    "sx,sy = coins.shape\n",
    "x, y = np.mgrid[0:sx, 0:sy] \n",
    "\n",
    "fig = plt.figure()\n",
    "ax = fig.add_subplot(111, projection='3d')\n",
    "\n",
    "ax.plot_surface(x, y, coins, cmap=cm.coolwarm)\n",
    "plt.show()"
   ]
  },
  {
   "cell_type": "code",
   "execution_count": null,
   "metadata": {},
   "outputs": [],
   "source": [
    "def plot_result(segmentation, title=\"\"):\n",
    "    # Select a different color for each coin\n",
    "    labeled_coins, _ = ndi.label(segmentation)\n",
    "    image_label_overlay = label2rgb(labeled_coins, image=coins)\n",
    "    \n",
    "    fig = plt.figure()\n",
    "    # The coins\n",
    "    plt.imshow(coins, cmap=plt.cm.gray)\n",
    "    # The edge of the segmentation\n",
    "    plt.contour(segmentation, [0.5], linewidths=1.2, colors='y')\n",
    "    # Each detected coin in a different color\n",
    "    plt.imshow(image_label_overlay)\n",
    "    \n",
    "    if title:\n",
    "        plt.suptitle(title, fontsize=16)\n",
    "    plt.show()\n",
    "\n",
    "def segmentation_with_threshold(datain, threshold):\n",
    "    \"\"\" simple segmentation based on a threshold \"\"\"\n",
    "    coins = datain > threshold\n",
    "    # binary_fill_holes is used to remove holes in the coins\n",
    "    return ndi.binary_fill_holes(coins)\n"
   ]
  },
  {
   "cell_type": "code",
   "execution_count": null,
   "metadata": {
    "scrolled": false
   },
   "outputs": [],
   "source": [
    "segmentation_thre = segmentation_with_threshold(coins, 100)\n",
    "plot_result(segmentation_thre, \"Threshold method with {}\".format(100))"
   ]
  },
  {
   "cell_type": "code",
   "execution_count": null,
   "metadata": {},
   "outputs": [],
   "source": [
    "segmentation_thre = segmentation_with_threshold(coins, 140)\n",
    "plot_result(segmentation_thre, \"Threshold method with {}\".format(140))"
   ]
  },
  {
   "cell_type": "code",
   "execution_count": null,
   "metadata": {},
   "outputs": [],
   "source": [
    "segmentation_thre = segmentation_with_threshold(coins, 110)\n",
    "plot_result(segmentation_thre, \"Threshold method with {}\".format(110))"
   ]
  },
  {
   "cell_type": "code",
   "execution_count": null,
   "metadata": {
    "scrolled": false
   },
   "outputs": [],
   "source": [
    "%matplotlib notebook \n",
    "\n",
    "from skimage.feature import canny\n",
    "\n",
    "def segmentation_with_edges(datain):\n",
    "    \"\"\"\n",
    "    Segmentation based on edges\n",
    "    1 - Apply canny edge filter\n",
    "    2 - binary_fill_holes\n",
    "    \"\"\"\n",
    "    dataout = datain > 110 # TODO replace this line\n",
    "    return dataout"
   ]
  },
  {
   "cell_type": "markdown",
   "metadata": {},
   "source": [
    "<!--REMOVE BUTTON FOR GITHUB\n",
    "<button data-toggle=\"collapse\" data-target=\"#segmentation2\">Solution</button>\n",
    "<div id=\"segmentation2\" class=\"collapse\">-->\n",
    "\n",
    "### Solution\n",
    "\n",
    "```python\n",
    "def segmentation_with_edges(datain):\n",
    "    \"\"\"\n",
    "    Segmentation based on edges\n",
    "    1 - Apply canny edge filter\n",
    "    2 - binary_fill_holes\n",
    "    \"\"\"\n",
    "    return ndi.binary_fill_holes(canny(datain))\n",
    "```"
   ]
  },
  {
   "cell_type": "code",
   "execution_count": null,
   "metadata": {},
   "outputs": [],
   "source": [
    "segmentation_edges = segmentation_with_edges(coins)\n",
    "plot_result(segmentation_edges, \"Edges method\")"
   ]
  },
  {
   "cell_type": "code",
   "execution_count": null,
   "metadata": {
    "scrolled": false
   },
   "outputs": [],
   "source": [
    "%matplotlib notebook \n",
    "\n",
    "from skimage.filters import sobel\n",
    "from skimage.morphology import watershed\n",
    "\n",
    "def segmentation_with_region(datain):\n",
    "    \"\"\"\n",
    "    Segmentation based on region\n",
    "    1 - use sobel to compute an elevation map\n",
    "    2 - mark pixels\n",
    "        1 for background for sure\n",
    "        2 for coins for sure\n",
    "        0 for we don't know\n",
    "    3 - apply watershed \n",
    "    4 - binary_fill_holes\n",
    "    \"\"\"\n",
    "    dataout = datain > 110 # TODO replace this line\n",
    "    return dataout"
   ]
  },
  {
   "cell_type": "markdown",
   "metadata": {},
   "source": [
    "<!--REMOVE BUTTON FOR GITHUB\n",
    "<button data-toggle=\"collapse\" data-target=\"#segmentation4\">Solution</button>\n",
    "<div id=\"segmentation4\" class=\"collapse\">-->\n",
    "    \n",
    "### Solution\n",
    "\n",
    "```python\n",
    "def segmentation_with_region(datain):\n",
    "    \"\"\"\n",
    "    Segmentation based on region\n",
    "    1 - use sobel to compute an elevation map\n",
    "    2 - mak pixels\n",
    "        1 for background for sure\n",
    "        2 for coins for sure\n",
    "        0 for we don't know\n",
    "    3 - apply watershed \n",
    "    4 - binary_fill_holes\n",
    "    \"\"\"\n",
    "\n",
    "    # use sobel in order to compute elevation map\n",
    "    elevation_map = sobel(datain)\n",
    "    \n",
    "    # mark pixels\n",
    "    # 1 for background for sure\n",
    "    # 2 for coins for sure\n",
    "    # 0 for we don't know   \n",
    "    markers = np.zeros_like(datain)\n",
    "    markers[datain < 30] = 1\n",
    "    markers[datain > 150] = 2\n",
    "    \n",
    "    # apply watershed algo\n",
    "    segmentation = watershed(elevation_map, markers) - 1\n",
    "    return ndi.binary_fill_holes(segmentation)\n",
    "```"
   ]
  },
  {
   "cell_type": "code",
   "execution_count": null,
   "metadata": {},
   "outputs": [],
   "source": [
    "segmentation_region = segmentation_with_region(coins)\n",
    "plot_result(segmentation_region, \"Region method\")"
   ]
  },
  {
   "cell_type": "code",
   "execution_count": null,
   "metadata": {
    "scrolled": false
   },
   "outputs": [],
   "source": [
    "%matplotlib notebook \n",
    "\n",
    "def filter_small_objects(datain, threshold, biggest=False):\n",
    "    \"\"\"\n",
    "    Segmentation based on edges\n",
    "    1 - use label to labelize each zone\n",
    "    2 - use bincount to count the number of pixel of each zone\n",
    "    3 - select which zone to keep after filter\n",
    "         - based on threshold\n",
    "         - except background\n",
    "         - eventually except biggest\n",
    "    4 - apply filter\n",
    "    \"\"\"\n",
    "    dataout = datain # TODO replace this line\n",
    "    return dataout"
   ]
  },
  {
   "cell_type": "markdown",
   "metadata": {},
   "source": [
    "<!--REMOVE BUTTON FOR GITHUB\n",
    "<button data-toggle=\"collapse\" data-target=\"#segmentation1\">Solution</button>\n",
    "<div id=\"segmentation1\" class=\"collapse\">-->\n",
    "    \n",
    "### Solution\n",
    "\n",
    "```python\n",
    "def filter_small_objects(datain, threshold, biggest=False):\n",
    "    \"\"\"\n",
    "    Segmentation based on edges\n",
    "    1 - use label to labelize each zone\n",
    "    2 - use bincount to count the number of pixel of each zone\n",
    "    3 - select which zone to keep after filter\n",
    "         - based on threshold\n",
    "         - except background\n",
    "         - eventually except biggest\n",
    "    4 - apply filter\n",
    "    \"\"\"\n",
    "    # label each zone\n",
    "    label_objects, nb_labels = ndi.label(datain)\n",
    "    # size of each zone in pixel\n",
    "    sizes = np.bincount(label_objects.flatten())\n",
    "    # Only keep all zone bigger than threshold\n",
    "    mask_sizes = sizes > threshold\n",
    "    \n",
    "    # remove the background\n",
    "    mask_sizes[0] = False\n",
    "    \n",
    "    if biggest:\n",
    "        # remove the biggest zone (except background)\n",
    "        mask_sizes[np.argsort(sizes)[-2]] = False\n",
    "      \n",
    "    #apply filter\n",
    "    return mask_sizes[label_objects]  \n",
    "```"
   ]
  },
  {
   "cell_type": "code",
   "execution_count": null,
   "metadata": {},
   "outputs": [],
   "source": [
    "segmentation_thre_filt = filter_small_objects(segmentation_thre,50, biggest=True)\n",
    "plot_result(segmentation_thre_filt, \"Threshold method at 110 filtered\")"
   ]
  },
  {
   "cell_type": "code",
   "execution_count": null,
   "metadata": {},
   "outputs": [],
   "source": [
    "segmentation_edges_filt = filter_small_objects(segmentation_edges, 20)\n",
    "plot_result(segmentation_edges_filt, \"Edges method filtered\")"
   ]
  },
  {
   "cell_type": "code",
   "execution_count": null,
   "metadata": {},
   "outputs": [],
   "source": [
    "segmentation_region_filt = filter_small_objects(segmentation_region, 20)\n",
    "plot_result(segmentation_region_filt, \"Region method filtered\")"
   ]
  },
  {
   "cell_type": "code",
   "execution_count": null,
   "metadata": {},
   "outputs": [],
   "source": [
    "def filled(datain):\n",
    "    \"\"\"\n",
    "    Try harder to fill holes\n",
    "    1 - dilation\n",
    "    2 - binary_fill_holes\n",
    "    3 - 2*erosion\n",
    "    4 - dilation\n",
    "    \"\"\"\n",
    "    dataout = datain # TODO replace this line\n",
    "    return dataout"
   ]
  },
  {
   "cell_type": "markdown",
   "metadata": {},
   "source": [
    "<!--REMOVE BUTTON FOR GITHUB\n",
    "<button data-toggle=\"collapse\" data-target=\"#segmentation3\">Solution</button>\n",
    "<div id=\"segmentation3\" class=\"collapse\">-->\n",
    "\n",
    "### Solution\n",
    "\n",
    "```python\n",
    "def filled(datain):\n",
    "    \"\"\"\n",
    "    Try harder to fill holes\n",
    "    1 - dilation\n",
    "    2 - binary_fill_holes\n",
    "    3 - 2*erosion\n",
    "    4 - dilation\n",
    "    \"\"\"\n",
    "    segmentation_dil = ndi.morphology.binary_dilation(datain, iterations=1)\n",
    "    segmentation_filled = ndi.binary_fill_holes(segmentation_dil)\n",
    "    segmentation_ero = ndi.morphology.binary_erosion(segmentation_filled, iterations=2)\n",
    "    segmentation_final = ndi.morphology.binary_dilation(segmentation_ero, iterations=1)\n",
    "    return segmentation_final\n",
    "```"
   ]
  },
  {
   "cell_type": "code",
   "execution_count": null,
   "metadata": {},
   "outputs": [],
   "source": [
    "segmentation_edges_fill = filled(segmentation_edges)\n",
    "segmentation_edges_fill_filt = filter_small_objects(segmentation_edges_fill, 20)\n",
    "plot_result(segmentation_edges_fill_filt, \"Edges method filled and filtered\")"
   ]
  },
  {
   "cell_type": "markdown",
   "metadata": {},
   "source": [
    "<!--<div class=\"alert alert-block alert-warning\"> \n",
    "<span style=\"font-size:xx-large;\"><center>Signal processing</center></span>\n",
    "</div>-->\n",
    "\n",
    "# Signal processing\n",
    "\n",
    "## Exercice\n",
    "\n",
    "We have a signal, and we want to do a Lorentz fit on all the peaks  \n",
    "1. filter the signal\n",
    "2. find peaks on the filtered signal\n",
    "3. determine window of interest for the fitting\n",
    "4. apply fit"
   ]
  },
  {
   "cell_type": "code",
   "execution_count": null,
   "metadata": {},
   "outputs": [],
   "source": [
    "%matplotlib notebook \n",
    "import matplotlib.pyplot as plt\n",
    "import numpy as np\n",
    "\n",
    "# get data\n",
    "wavelength, signal = np.loadtxt(\"data/Tungsten spectrum.dat\").T\n",
    "\n",
    "fig = plt.figure()\n",
    "plt.plot(wavelength, signal, label=\"Original signal\")\n",
    "plt.legend()\n",
    "plt.show()\n"
   ]
  },
  {
   "cell_type": "code",
   "execution_count": null,
   "metadata": {},
   "outputs": [],
   "source": [
    "from scipy.signal import wiener\n",
    "\n",
    "def filter(wavelength, signal):\n",
    "    \"\"\"\n",
    "    Filter the signal in order to ease extraction of maxima\n",
    "    \n",
    "    scipy.signal.wiener is a first step\n",
    "    \"\"\"\n",
    "    \n",
    "    filtered_signal = signal # TODO #\n",
    "    return filtered_signal"
   ]
  },
  {
   "cell_type": "markdown",
   "metadata": {},
   "source": [
    "<!--REMOVE BUTTON FOR GITHUB\n",
    "<button data-toggle=\"collapse\" data-target=\"#signal1\">Solution filter</button>\n",
    "<div id=\"signal1\" class=\"collapse\">-->\n",
    "\n",
    "### Solution filter\n",
    "\n",
    "```python\n",
    "def filter(wavelength, signal):\n",
    "    \"\"\"\n",
    "    Filter the signal in order to ease extraction of maxima\n",
    "    \n",
    "    scipy.signal.wiener is a first step\n",
    "    \"\"\"\n",
    "    \n",
    "    filtered_signal = wiener(signal)\n",
    "    return filtered_signal\n",
    "```"
   ]
  },
  {
   "cell_type": "code",
   "execution_count": null,
   "metadata": {},
   "outputs": [],
   "source": [
    "filtered_signal = filter(wavelength, signal)\n",
    "\n",
    "fig = plt.figure()\n",
    "plt.plot(wavelength, signal, label=\"Original signal\")\n",
    "plt.plot(wavelength, filtered_signal, label=\"Filtered signal\")\n",
    "plt.legend()\n",
    "plt.show()"
   ]
  },
  {
   "cell_type": "code",
   "execution_count": null,
   "metadata": {},
   "outputs": [],
   "source": [
    "from scipy.signal import argrelmax\n",
    "\n",
    "def find_peaks(wavelength, signal):\n",
    "    \"\"\"\n",
    "    Find some maxima of the signal\n",
    "    \n",
    "    Finding the maximum of the signal is also a first step\n",
    "    scipy.signal.argrelmax is also a good idea\n",
    "    \n",
    "    indexes_max must be a list (eventually containing ony one element)\n",
    "    \"\"\"\n",
    "    indexes_max = [256]  # TODO #\n",
    "    return indexes_max"
   ]
  },
  {
   "cell_type": "markdown",
   "metadata": {},
   "source": [
    "<!--REMOVE BUTTON FOR GITHUB\n",
    "<button data-toggle=\"collapse\" data-target=\"#signal2\">Solution find_peaks</button>\n",
    "<div id=\"signal2\" class=\"collapse\">-->\n",
    "\n",
    "### Solution find_peaks\n",
    "\n",
    "```python\n",
    "def find_peaks(wavelength, signal):\n",
    "    \"\"\"\n",
    "    Find some maxima of the signal\n",
    "    \n",
    "    Finding the maximum of the signal is also a first step\n",
    "    scipy.signal.argrelmax is also a good idea\n",
    "    \n",
    "    indexes_max must be a list (eventually containing ony one element)\n",
    "    \"\"\"\n",
    "\n",
    "    #indexes_max = [np.argmax(signal)]\n",
    "    indexes_max = argrelmax(signal)[0]\n",
    "    return indexes_max\n",
    "```"
   ]
  },
  {
   "cell_type": "code",
   "execution_count": null,
   "metadata": {},
   "outputs": [],
   "source": [
    "maximas = find_peaks(wavelength, filtered_signal)\n",
    "\n",
    "fig = plt.figure()\n",
    "plt.plot(wavelength, filtered_signal, label=\"Filtered signal\")\n",
    "\n",
    "# add a circle on all the peaks\n",
    "plt.plot(wavelength[maximas], filtered_signal[maximas],\n",
    "         'o', ms=10, alpha=0.7, label=\"peaks\")\n",
    "\n",
    "plt.legend()\n",
    "plt.show()"
   ]
  },
  {
   "cell_type": "code",
   "execution_count": null,
   "metadata": {},
   "outputs": [],
   "source": [
    "from scipy.signal import argrelmin, argrelmax\n",
    "\n",
    "def get_windows(wavelength, signal, indexes_max):\n",
    "    \"\"\"\n",
    "    Find out window of interest around peaks\n",
    "\n",
    "    The window of interest is the time range between two local minima around the peak\n",
    "\n",
    "    In order to find it:\n",
    "    - use scipy.signal.argrelmin to extract all local minimas\n",
    "    - in a loop for all peak:\n",
    "      - use numpy.argmax to find the next local minima after the current peak\n",
    "      - compute the edges of the window, beware of the boundaries\n",
    "    \"\"\"\n",
    "\n",
    "    windows = {}\n",
    "    for peak in indexes_max:\n",
    "        windows[peak] = [200, 300]  # TODO #\n",
    "\n",
    "    return windows"
   ]
  },
  {
   "cell_type": "markdown",
   "metadata": {},
   "source": [
    "<!--REMOVE BUTTON FOR GITHUB\n",
    "<button data-toggle=\"collapse\" data-target=\"#signal3\">Solution get_windows</button>\n",
    "<div id=\"signal3\" class=\"collapse\">-->\n",
    "\n",
    "### Solution get_windows\n",
    "\n",
    "```python\n",
    "def get_windows(wavelength, signal, indexes_max):\n",
    "    \"\"\"\n",
    "    Find out window of interest around peaks\n",
    "    \n",
    "    The window of interest is the time range between two local minima around the peak\n",
    "    \n",
    "    In order to find it:\n",
    "    - use scipy.signal.argrelmin to extract all local minimas\n",
    "    - in a loop for all peak:\n",
    "      - use numpy.argmax to find the next local minima after the current peak\n",
    "      - compute the edges of the window, beware of the boundaries\n",
    "    \"\"\"\n",
    "\n",
    "    windows = {}\n",
    "    \n",
    "    # get index of the minimas\n",
    "    minimas = argrelmin(signal)[0]\n",
    "\n",
    "    for peak in indexes_max:\n",
    "\n",
    "        # get index of the next minima in minimas\n",
    "        next_minima = np.argmax(minimas > peak)\n",
    "        \n",
    "        # if there is no minima after the peak\n",
    "        if minimas[next_minima] < peak:\n",
    "            wmax = len(signal) -1\n",
    "        else:\n",
    "            wmax = minimas[next_minima]\n",
    "        \n",
    "        # if there is no minima before the peak\n",
    "        if next_minima == 0:\n",
    "            wmin = 0\n",
    "        else:\n",
    "            wmin = minimas[next_minima-1]\n",
    "\n",
    "        windows[peak] = [wmin, wmax]\n",
    "\n",
    "    return windows\n",
    "```"
   ]
  },
  {
   "cell_type": "code",
   "execution_count": null,
   "metadata": {
    "scrolled": false
   },
   "outputs": [],
   "source": [
    "def filter_peaks(windows):\n",
    "    \"\"\"\n",
    "    Filter out unusable peaks\n",
    "    A peak is unusable when the window is too short (less thant 5 values)\n",
    "    \n",
    "    Create a new dictionnary containing only usable peaks\n",
    "    \"\"\"\n",
    "    filtered_windows = {}\n",
    "    for peak, (wmin, wmax) in windows.items():\n",
    "        if wmax- wmin >= 5:\n",
    "            filtered_windows[peak] = [wmin, wmax]\n",
    "    return filtered_windows\n",
    "\n",
    "def get_minmaxpeaks(windows):\n",
    "    \"\"\"\n",
    "    Extract a list of all extrema that we will use\n",
    "    \"\"\"\n",
    "    limits = np.asarray(list(windows.values())).flatten()\n",
    "    maxpeaks = list(windows.keys())\n",
    "    return limits, maxpeaks \n",
    "        \n",
    "\n",
    "# Get peaks\n",
    "windows = get_windows(wavelength, filtered_signal, maximas)\n",
    "peaks = filter_peaks(windows)\n",
    "\n",
    "selected_limits, selected_maxpeaks = get_minmaxpeaks(peaks)\n",
    "\n",
    "# start plot\n",
    "fig= plt.figure()\n",
    "ax = plt.subplot(111)\n",
    "\n",
    "# plot the signal\n",
    "plt.plot(wavelength, signal, label=\"Original signal\")\n",
    "#plt.plot(wavelength, filtered_signal, label=\"Filtered signal\")\n",
    "\n",
    "# add a circle on all the peaks\n",
    "plt.plot(wavelength[selected_maxpeaks],\n",
    "         filtered_signal[selected_maxpeaks],\n",
    "         'o', ms=10, alpha=0.7, label=\"peaks\")\n",
    "    \n",
    "# add a circle on the limit of the windows\n",
    "plt.plot(wavelength[selected_limits],\n",
    "         filtered_signal[selected_limits],\n",
    "         'o', ms=10, alpha=0.7, label=\"windows edges\")\n",
    "\n",
    "plt.legend()\n",
    "\n",
    "# finish plotting\n",
    "plt.show()\n"
   ]
  },
  {
   "cell_type": "code",
   "execution_count": null,
   "metadata": {},
   "outputs": [],
   "source": [
    "%matplotlib notebook \n",
    "\n",
    "def lorentz(param, peak, x):\n",
    "    \"\"\"\n",
    "    Lorentz function\n",
    "     - param is a vector of 3 parameter : baseline, gamma and amplitude\n",
    "       The optimisation will adjust them\n",
    "     \n",
    "     - peak is the position of the peak\n",
    "     - x is the points of evaluation of the function\n",
    "    \"\"\"\n",
    "    baseline, gamma, amplitude = param\n",
    "\n",
    "    num = 2 / (np.pi * gamma)\n",
    "    denom = 1 + ((x - peak) / (gamma / 2)) ** 2\n",
    "    fx = num / denom\n",
    "\n",
    "    maxlorentz = fx.max()\n",
    "\n",
    "    return baseline + amplitude * fx / maxlorentz\n",
    "\n",
    "param = (100, 1, 2)\n",
    "y = lorentz(param, 656, wavelength)\n",
    "\n",
    "plt.figure()\n",
    "plt.plot(wavelength, y)\n",
    "plt.show()"
   ]
  },
  {
   "cell_type": "code",
   "execution_count": null,
   "metadata": {},
   "outputs": [],
   "source": [
    "from scipy.optimize import minimize\n",
    "\n",
    "def lorentz_fit(wavelength, signal, peak, window):\n",
    "    \"\"\"\n",
    "    Compute a fit of a lorentz function around the peak inside a window\n",
    "    1 - define a cost function (e.g. least square)\n",
    "    2 - extract the window of interest\n",
    "    3 - choose appropriate intital value on the 3 lorentz parameter\n",
    "    4 - apply the *minimize* procedure to optimize those parameter\n",
    "        use the *args* argument in order to pass more arguments\n",
    "    5 - return the optimal parameters and the resulting fit\n",
    "    \"\"\"\n",
    "    \n",
    "    def cost(param, peak, x, signal):\n",
    "        \"\"\"\n",
    "        Compute the error between a lorentz fit and a signal\n",
    "        1 - compute the resulting fit\n",
    "        2 - compute the error\n",
    "        \"\"\"\n",
    "        fit = lorentz(param, peak, x)\n",
    "        error = np.sqrt(np.sum((fit - signal) ** 2))\n",
    "        return error\n",
    "\n",
    "\n",
    "    # extract data for fitting\n",
    "\n",
    "    # initial values for baseline, gamma and amplitude\n",
    "    init_param = [1., 1., 1.]\n",
    "\n",
    "    # fitting\n",
    "    opt_param = init_param # TODO #\n",
    "\n",
    "    fit = lorentz(opt_param, peak, wavelength)\n",
    "\n",
    "    return opt_param, (wavelength, fit)\n"
   ]
  },
  {
   "cell_type": "markdown",
   "metadata": {},
   "source": [
    "<!--REMOVE BUTTON FOR GITHUB\n",
    "<button data-toggle=\"collapse\" data-target=\"#signal6\">Solution lorentz_fit</button>\n",
    "<div id=\"signal6\" class=\"collapse\">-->\n",
    "\n",
    "### Solution lorentz_fit\n",
    "\n",
    "```python\n",
    "def lorentz_fit(wavelength, signal, peak, window):\n",
    "    \"\"\"\n",
    "    Compute a fit of a lorentz function around the peak inside a window\n",
    "    1 - define a cost function (e.g. least square)\n",
    "    2 - extract the window of interest\n",
    "    3 - choose appropriate intital value on the 3 lorentz parameter\n",
    "    4 - apply the *minimize* procedure to optimize those parameter\n",
    "        use the *args* argument in order to pass more arguments\n",
    "    5 - return the optimal parameters and the resulting fit\n",
    "    \"\"\"\n",
    "    \n",
    "    def cost(param, peak, x, signal):\n",
    "        \"\"\"\n",
    "        Compute the error between a lorentz fit and a signal\n",
    "        1 - compute the resulting fit\n",
    "        2 - compute the error\n",
    "        \"\"\"\n",
    "        fit = lorentz(param, peak, x)\n",
    "        error = np.sqrt(np.sum((fit - signal) ** 2))\n",
    "        return error\n",
    "\n",
    "    # extract data for fitting\n",
    "    wmin, wmax = window\n",
    "    wavelength = wavelength[wmin:wmax]\n",
    "    signal = signal[wmin:wmax]\n",
    "    \n",
    "    # initial values for baseline, gamma and amplitude\n",
    "    init_param = [2000., 0.1, 4000]\n",
    "\n",
    "    # fitting\n",
    "    res = minimize(cost, init_param, args=(peak, wavelength, signal))\n",
    "    opt_param = res.x\n",
    "    \n",
    "    fit = lorentz(opt_param, peak, wavelength)\n",
    "    \n",
    "    return opt_param, (wavelength, fit)\n",
    "```"
   ]
  },
  {
   "cell_type": "code",
   "execution_count": null,
   "metadata": {
    "scrolled": false
   },
   "outputs": [],
   "source": [
    "# start plot\n",
    "fig= plt.figure()\n",
    "ax = plt.subplot(111)\n",
    "\n",
    "# plot the signal\n",
    "plt.plot(wavelength, signal, label=\"Original signal\")\n",
    "#plt.plot(wavelength, filtered_signal, label=\"Filtered signal\")\n",
    "\n",
    "# add a circle on all the peaks\n",
    "if False:\n",
    "    plt.plot(wavelength[selected_maxpeaks],\n",
    "             filtered_signal[selected_maxpeaks],\n",
    "             'o', ms=10, alpha=0.7, label=\"peaks\")\n",
    "    \n",
    "# add a circle on the limit of the windows\n",
    "if False:\n",
    "    plt.plot(wavelength[selected_limits],\n",
    "             filtered_signal[selected_limits],\n",
    "             'o', ms=10, alpha=0.7, label=\"base for fit\")\n",
    "\n",
    "# Apply fit on all peaks\n",
    "print((\"{:^8}\" + \" | {:^9}\" * 3).format(\"Peak\", \"Baseline\", \"Gamma\", \"Amplitude\"))\n",
    "for key, window in peaks.items():\n",
    "    peak = wavelength[key]\n",
    "    \n",
    "    param, fit = lorentz_fit(wavelength, signal, peak, window)\n",
    "    print((\"{:8.2f}\" + \" | {:9.2e}\" * 3).format(peak, *param))\n",
    "    \n",
    "    # plot\n",
    "    plt.plot(fit[0], fit[1])\n",
    "    \n",
    "# Put a legend to the right of the current axis\n",
    "box = ax.get_position()\n",
    "ax.set_position([box.x0, box.y0, box.width * 0.8, box.height])\n",
    "ax.legend(loc='center left', bbox_to_anchor=(1, 0.5))\n",
    "\n",
    "# finish plotting\n",
    "plt.show()\n"
   ]
  },
  {
   "cell_type": "markdown",
   "metadata": {},
   "source": [
    "<!-- <div class=\"alert alert-block alert-warning\"> \n",
    "<span style=\"font-size:xx-large;\"><center>Exemple : EDO</center></span>\n",
    "</div>-->\n",
    "\n",
    "# Exemple : EDO"
   ]
  },
  {
   "cell_type": "code",
   "execution_count": null,
   "metadata": {},
   "outputs": [],
   "source": [
    "def tank(t, y):\n",
    "    \"\"\"\n",
    "    Dynamic balance for a CSTR\n",
    " \n",
    "    C_A = y[0] = the concentration of A in the tank, [mol/L]\n",
    "    T   = y[1] = the tank temperature, [K]\n",
    " \n",
    "    Returns dy/dt = [F/V*(C_{A,in} - C_A) - k*C_A^2       ]\n",
    "                    [F/V*(T_in - T) - k*C_A^2*HR/(rho*Cp) ]\n",
    "    \"\"\"\n",
    "    F = 20.1     # L/min\n",
    "    CA_in = 2.5  # mol/L\n",
    "    V = 100.0    # L\n",
    "    k0 = 0.15    # L/(mol.min)\n",
    "    Ea = 5000    # J/mol\n",
    "    R = 8.314    # J/(mol.K)\n",
    "    Hr = -590    # J/mol\n",
    "    T_in = 288   # K\n",
    "    rho = 1.050  # kg/L\n",
    " \n",
    "    # Assign some variables for convenience of notation\n",
    "    CA = y[0]\n",
    "    T  = y[1]\n",
    " \n",
    "    # Algebraic equations\n",
    "    k = k0 * np.exp(-Ea / (R * T))  # L/(mol.min)\n",
    "    Cp = 4.184 - 0.002 * (T - 273)  # J/(kg.K)\n",
    " \n",
    "    # Output from ODE function must be a COLUMN vector, with n rows\n",
    "    n = len(y)      # 2: implies we have two ODEs\n",
    "    dydt = np.zeros((n))\n",
    "    dydt[0] = F / V * (CA_in - CA) - k * CA ** 2\n",
    "    dydt[1] = F / V * (T_in - T) - (Hr * k * CA ** 2) / (rho * Cp)\n",
    "    return dydt"
   ]
  },
  {
   "cell_type": "code",
   "execution_count": null,
   "metadata": {
    "scrolled": false
   },
   "outputs": [],
   "source": [
    "%matplotlib notebook \n",
    "\n",
    "from scipy import integrate\n",
    "\n",
    "# Start by specifying the integrator:\n",
    "# use ``vode`` with \"backward differentiation formula\"\n",
    "r = integrate.ode(tank).set_integrator('vode', method='bdf')\n",
    "\n",
    "# Set the time range\n",
    "t_start = 0.0\n",
    "t_final = 45.0\n",
    "delta_t = 0.1\n",
    "# Number of time steps: 1 extra for initial condition\n",
    "num_steps = int((t_final - t_start) / delta_t) + 1\n",
    "\n",
    "# Set initial condition(s): for integrating variable and time!\n",
    "CA_t_zero = 0.5\n",
    "T_t_zero = 295.0\n",
    "r.set_initial_value([CA_t_zero, T_t_zero], t_start)\n",
    "\n",
    "# Create vectors to store trajectories\n",
    "t = np.zeros(num_steps)\n",
    "CA = np.zeros(num_steps)\n",
    "temp = np.zeros(num_steps)\n",
    "\n",
    "# Integrate the ODE(s) across each delta_t timestep\n",
    "k = 0\n",
    "while r.successful() and k < num_steps:\n",
    "    # Store the results to plot later\n",
    "    t[k] = r.t\n",
    "    CA[k] = r.y[0]\n",
    "    temp[k] = r.y[1]\n",
    "\n",
    "    r.integrate(r.t + delta_t)\n",
    "    k += 1\n"
   ]
  },
  {
   "cell_type": "code",
   "execution_count": null,
   "metadata": {
    "scrolled": false
   },
   "outputs": [],
   "source": [
    "# All done!  Plot the trajectories in two separate plots:\n",
    "fig = plt.figure()\n",
    "ax1 = plt.subplot(211)\n",
    "ax1.plot(t[:k], CA[:k])\n",
    "ax1.set_xlim(t_start, t_final)\n",
    "ax1.set_xlabel('Time [minutes]')\n",
    "ax1.set_ylabel('Concentration [mol/L]')\n",
    "ax1.grid('on')\n",
    "\n",
    "ax2 = plt.subplot(212)\n",
    "ax2.plot(t[:k], temp[:k], 'r')\n",
    "ax2.set_xlim(t_start, t_final)\n",
    "ax2.set_xlabel('Time [minutes]')\n",
    "ax2.set_ylabel('Temperaturere [K]')\n",
    "ax2.grid('on')"
   ]
  },
  {
   "cell_type": "markdown",
   "metadata": {},
   "source": [
    "<!--<div class=\"alert alert-block alert-warning\"> \n",
    "<span style=\"font-size:xx-large;\"><center>Sympy</center></span>\n",
    "</div>-->\n",
    "\n",
    "# Sympy\n",
    "\n",
    "### Symbolic calculus with Python"
   ]
  },
  {
   "cell_type": "code",
   "execution_count": null,
   "metadata": {
    "scrolled": false
   },
   "outputs": [],
   "source": [
    "import sympy as sp\n",
    "sp.init_printing()\n",
    "x = sp.symbols('x')\n",
    "f = sp.symbols('f', cls=sp.Function)\n",
    "print(f(x))\n",
    "\n",
    "sp.pprint(sp.Integral(sp.sqrt(1 / x), x))\n",
    "diffeq = sp.Eq(f(x).diff(x, x) - 2 * f(x).diff(x) + f(x), sp.sin(x))\n",
    "sp.pprint(diffeq)\n",
    "\n",
    "sol = sp.dsolve(diffeq, f(x), dict=True)\n",
    "sp.pprint(sol)\n",
    "sol"
   ]
  },
  {
   "cell_type": "code",
   "execution_count": null,
   "metadata": {
    "scrolled": false
   },
   "outputs": [],
   "source": [
    "C1, C2 = sp.symbols('C1 C2')\n",
    "sol.subs({x:2, C1:0, C2:3}).evalf()"
   ]
  },
  {
   "cell_type": "code",
   "execution_count": null,
   "metadata": {},
   "outputs": [],
   "source": []
  }
 ],
 "metadata": {
  "kernelspec": {
   "display_name": "Python 3",
   "language": "python",
   "name": "python3"
  },
  "language_info": {
   "codemirror_mode": {
    "name": "ipython",
    "version": 3
   },
   "file_extension": ".py",
   "mimetype": "text/x-python",
   "name": "python",
   "nbconvert_exporter": "python",
   "pygments_lexer": "ipython3",
   "version": "3.5.2"
  }
 },
 "nbformat": 4,
 "nbformat_minor": 2
}
